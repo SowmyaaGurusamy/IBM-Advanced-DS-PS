{
  "cells": [
    {
      "cell_type": "markdown",
      "metadata": {
        "id": "pt5wwxEsXf0O"
      },
      "source": [
        "# Warmup Assignment 2\n",
        "Below you see some ApacheSpark code written in Python. You don't have to change code now, the only thing we want you to do is to make sure that you have a proper Apache Spark Notebook environment available for this course\n",
        "\n"
      ]
    },
    {
      "cell_type": "code",
      "execution_count": null,
      "metadata": {
        "id": "RTuGm9RNXf0T"
      },
      "outputs": [],
      "source": [
        "!pip install pyspark==3.3.0"
      ]
    },
    {
      "cell_type": "code",
      "execution_count": null,
      "metadata": {
        "id": "d7s1UuiAXf0T"
      },
      "outputs": [],
      "source": [
        "try:\n",
        "    from pyspark import SparkContext, SparkConf\n",
        "    from pyspark.sql import SparkSession\n",
        "except ImportError as e:\n",
        "    printmd('<<<<<!!!!! Please restart your kernel after installing Apache Spark !!!!!>>>>>')"
      ]
    },
    {
      "cell_type": "code",
      "execution_count": null,
      "metadata": {
        "id": "x8cLSps3Xf0T"
      },
      "outputs": [],
      "source": [
        "sc = SparkContext.getOrCreate(SparkConf().setMaster(\"local[*]\"))\n",
        "\n",
        "spark = SparkSession \\\n",
        "    .builder \\\n",
        "    .getOrCreate()"
      ]
    },
    {
      "cell_type": "code",
      "execution_count": null,
      "metadata": {
        "id": "U3JZ6b2UXf0T"
      },
      "outputs": [],
      "source": [
        "def assignment1(sc):\n",
        "    rdd = sc.parallelize(list(range(100)))\n",
        "    return rdd.count()"
      ]
    },
    {
      "cell_type": "code",
      "execution_count": null,
      "metadata": {
        "id": "Zukl7UyDXf0T"
      },
      "outputs": [],
      "source": [
        "print(assignment1(sc))"
      ]
    },
    {
      "cell_type": "code",
      "execution_count": null,
      "metadata": {
        "id": "1Hp57HiTXf0T"
      },
      "outputs": [],
      "source": [
        "!rm -f rklib.py\n",
        "!wget https://raw.githubusercontent.com/IBM/coursera/master/rklib.py"
      ]
    },
    {
      "cell_type": "markdown",
      "metadata": {
        "id": "egk4IrVuXf0U"
      },
      "source": [
        "Please provide your email address and obtain a submission token on the grader’s submission page in coursera, then execute the cell"
      ]
    },
    {
      "cell_type": "code",
      "execution_count": null,
      "metadata": {
        "id": "DDmQ3rp9Xf0b"
      },
      "outputs": [],
      "source": [
        "from rklib import submit\n",
        "import json\n",
        "\n",
        "key = \"R1eDmiHNEei9kxIYdin0mA\"\n",
        "part = \"fnFg7\"\n",
        "email = ###_YOUR_CODE_GOES_HERE_###\n",
        "token = ###_YOUR_CODE_GOES_HERE_### #you can obtain it from the grader page on Coursera (have a look here if you need more information https://youtu.be/GcDo0Rwe06U?t=276)\n",
        "\n",
        "\n",
        "submit(email, token, key, part, [part], json.dumps(assignment1(sc)))"
      ]
    },
    {
      "cell_type": "code",
      "execution_count": null,
      "metadata": {
        "id": "GKq5UmRuXf0b"
      },
      "outputs": [],
      "source": []
    }
  ],
  "metadata": {
    "kernelspec": {
      "display_name": "Python 3.6",
      "language": "python",
      "name": "python3"
    },
    "language_info": {
      "codemirror_mode": {
        "name": "ipython",
        "version": 3
      },
      "file_extension": ".py",
      "mimetype": "text/x-python",
      "name": "python",
      "nbconvert_exporter": "python",
      "pygments_lexer": "ipython3",
      "version": "3.6.9"
    },
    "colab": {
      "provenance": []
    }
  },
  "nbformat": 4,
  "nbformat_minor": 0
}