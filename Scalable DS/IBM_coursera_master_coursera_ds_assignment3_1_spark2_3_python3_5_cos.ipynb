{
  "cells": [
    {
      "cell_type": "markdown",
      "metadata": {
        "id": "MRZZ7FzRXg9L"
      },
      "source": [
        "# Assignment 3\n",
        "\n",
        "Welcome to Assignment 3. This will be even more fun. Now we will calculate statistical measures.\n",
        "\n",
        "## You only have to pass 4 out of 7 functions\n",
        "\n",
        "Just make sure you hit the play button on each cell from top to down. There are seven functions you have to implement. Please also make sure than on each change on a function you hit the play button again on the corresponding cell to make it available to the rest of this notebook."
      ]
    },
    {
      "cell_type": "code",
      "execution_count": null,
      "metadata": {
        "id": "UqrZGE2aXg9U"
      },
      "outputs": [],
      "source": [
        "!pip install pyspark==3.3.0"
      ]
    },
    {
      "cell_type": "code",
      "execution_count": null,
      "metadata": {
        "id": "-dbmMatqXg9U"
      },
      "outputs": [],
      "source": [
        "try:\n",
        "    from pyspark import SparkContext, SparkConf\n",
        "    from pyspark.sql import SparkSession\n",
        "except ImportError as e:\n",
        "    printmd('<<<<<!!!!! Please restart your kernel after installing Apache Spark !!!!!>>>>>')"
      ]
    },
    {
      "cell_type": "code",
      "execution_count": null,
      "metadata": {
        "id": "FREI2X3nXg9V"
      },
      "outputs": [],
      "source": [
        "sc = SparkContext.getOrCreate(SparkConf().setMaster(\"local[*]\"))\n",
        "\n",
        "spark = SparkSession \\\n",
        "    .builder \\\n",
        "    .getOrCreate()"
      ]
    },
    {
      "cell_type": "markdown",
      "metadata": {
        "id": "dCeKrtxTXg9V"
      },
      "source": [
        "All functions can be implemented using DataFrames, ApacheSparkSQL or RDDs. We are only interested in the result. You are given the reference to the data frame in the \"df\" parameter and in case you want to use SQL just use the \"spark\" parameter which is a reference to the global SparkSession object. Finally if you want to use RDDs just use \"df.rdd\" for obtaining a reference to the underlying RDD object. But we discurage using RDD at this point in time.\n",
        "\n",
        "Let's start with the first function. Please calculate the minimal temperature for the test data set you have created. We've provided a little skeleton for you in case you want to use SQL. Everything can be implemented using SQL only if you like."
      ]
    },
    {
      "cell_type": "code",
      "execution_count": null,
      "metadata": {
        "id": "pJdmnBHSXg9V"
      },
      "outputs": [],
      "source": [
        "def minTemperature():\n",
        "    #TODO Please enter your code here, you are not required to use the template code below\n",
        "    #some reference: https://spark.apache.org/docs/latest/api/python/getting_started/quickstart_df.html#Working-with-SQL\n",
        "    return spark.sql(\"SELECT ##INSERT YOUR CODE HERE##(temperature) as mintemp from washing\").first().mintemp"
      ]
    },
    {
      "cell_type": "markdown",
      "metadata": {
        "id": "cgY6m2mlXg9W"
      },
      "source": [
        "Please now do the same for the mean of the temperature"
      ]
    },
    {
      "cell_type": "code",
      "execution_count": null,
      "metadata": {
        "id": "qUUVwElXXg9W"
      },
      "outputs": [],
      "source": [
        "def meanTemperature():\n",
        "    #TODO Please enter your code here, you are not required to use the template code below\n",
        "    #some reference: https://spark.apache.org/docs/latest/api/python/getting_started/quickstart_df.html#Working-with-SQL\n",
        "    return spark.sql(\"SELECT ##INSERT YOUR CODE HERE##(temperature) as meantemp from washing\").first().meantemp"
      ]
    },
    {
      "cell_type": "markdown",
      "metadata": {
        "id": "sIjPTVbIXg9W"
      },
      "source": [
        "Please now do the same for the maximum of the temperature"
      ]
    },
    {
      "cell_type": "code",
      "execution_count": null,
      "metadata": {
        "id": "YjIxTC-LXg9X"
      },
      "outputs": [],
      "source": [
        "def maxTemperature():\n",
        "    #TODO Please enter your code here, you are not required to use the template code below\n",
        "    #some reference: https://spark.apache.org/docs/latest/api/python/getting_started/quickstart_df.html#Working-with-SQL\n",
        "    return spark.sql(\"SELECT ##INSERT YOUR CODE HERE##(temperature) as maxtemp from washing\").first().maxtemp"
      ]
    },
    {
      "cell_type": "markdown",
      "metadata": {
        "id": "BAvkji4EXg9X"
      },
      "source": [
        "Please now do the same for the standard deviation of the temperature"
      ]
    },
    {
      "cell_type": "code",
      "execution_count": null,
      "metadata": {
        "id": "VQ7AJCEbXg9Y"
      },
      "outputs": [],
      "source": [
        "def sdTemperature():\n",
        "    #TODO Please enter your code here, you are not required to use the template code below\n",
        "    #some reference: https://spark.apache.org/docs/latest/api/python/getting_started/quickstart_df.html#Working-with-SQL\n",
        "    #https://spark.apache.org/docs/2.3.0/api/sql/\n",
        "    return spark.sql(\"SELECT ##INSERT YOUR CODE HERE##_pop(temperature) as sdtemp from washing\").first().sdtemp"
      ]
    },
    {
      "cell_type": "markdown",
      "metadata": {
        "id": "6Km_LLxcXg9Y"
      },
      "source": [
        "Please now do the same for the skew of the temperature. Since the SQL statement for this is a bit more complicated we've provided a skeleton for you. You have to insert custom code at four positions in order to make the function work. Alternatively you can also remove everything and implement if on your own. Note that we are making use of two previously defined functions, so please make sure they are correct. Also note that we are making use of python's string formatting capabilitis where the results of the two function calls to \"meanTemperature\" and \"sdTemperature\" are inserted at the \"%s\" symbols in the SQL string."
      ]
    },
    {
      "cell_type": "code",
      "execution_count": null,
      "metadata": {
        "id": "_n0FG7-bXg9Z"
      },
      "outputs": [],
      "source": [
        "def skewTemperature():\n",
        "    return spark.sql(\"\"\"\n",
        "SELECT\n",
        "    (\n",
        "        1/##INSERT YOUR CODE HERE##\n",
        "    ) *\n",
        "    SUM (\n",
        "        POWER(##INSERT YOUR CODE HERE##-%s,3)/POWER(%s,3)\n",
        "    )\n",
        "\n",
        "as sktemperature from washing\n",
        "                    \"\"\" %(meanTemperature(),sdTemperature())).first().sktemperature"
      ]
    },
    {
      "cell_type": "markdown",
      "metadata": {
        "id": "gcsO4oaZXg9Z"
      },
      "source": [
        "Kurtosis is the 4th statistical moment, so if you are smart you can make use of the code for skew which is the 3rd statistical moment. Actually only two things are different."
      ]
    },
    {
      "cell_type": "code",
      "execution_count": null,
      "metadata": {
        "id": "0VXF4UmpXg9a"
      },
      "outputs": [],
      "source": [
        "def kurtosisTemperature():\n",
        "        return spark.sql(\"\"\"\n",
        "SELECT\n",
        "    (\n",
        "        1/##INSERT YOUR CODE HERE##\n",
        "    ) *\n",
        "    SUM (\n",
        "        POWER(##INSERT YOUR CODE HERE##-%s,4)/POWER(%s,4)\n",
        "    )\n",
        "as ktemperature from washing\n",
        "                    \"\"\" %(meanTemperature(),sdTemperature())).first().ktemperature\n"
      ]
    },
    {
      "cell_type": "markdown",
      "metadata": {
        "id": "SDFoMNjLXg9a"
      },
      "source": [
        "Just a hint. This can be solved easily using SQL as well, but as shown in the lecture also using RDDs."
      ]
    },
    {
      "cell_type": "code",
      "execution_count": null,
      "metadata": {
        "id": "0VS4e55WXg9a"
      },
      "outputs": [],
      "source": [
        "def correlationTemperatureHardness():\n",
        "    #TODO Please enter your code here, you are not required to use the template code below\n",
        "    #some reference: https://spark.apache.org/docs/latest/api/python/pyspark.sql.html#pyspark.sql.DataFrame\n",
        "    #https://spark.apache.org/docs/2.3.0/api/sql/\n",
        "    return spark.sql(\"SELECT ##INSERT YOUR CODE HERE##(temperature,hardness) as temperaturehardness from washing\").first().temperaturehardness"
      ]
    },
    {
      "cell_type": "markdown",
      "metadata": {
        "id": "oDUNNnHnXg9a"
      },
      "source": [
        "Now it is time to grab a PARQUET file and create a dataframe out of it. Using SparkSQL you can handle it like a database."
      ]
    },
    {
      "cell_type": "code",
      "execution_count": null,
      "metadata": {
        "id": "yMtzJeL-Xg9b"
      },
      "outputs": [],
      "source": [
        "!wget https://github.com/IBM/coursera/blob/master/coursera_ds/washing.parquet?raw=true\n",
        "!mv washing.parquet?raw=true washing.parquet"
      ]
    },
    {
      "cell_type": "code",
      "execution_count": null,
      "metadata": {
        "id": "VkjyJvtaXg9b"
      },
      "outputs": [],
      "source": [
        "df = spark.read.parquet('washing.parquet')\n",
        "df.createOrReplaceTempView('washing')\n",
        "df.show()"
      ]
    },
    {
      "cell_type": "markdown",
      "metadata": {
        "id": "jGGJ2x1pXg9b"
      },
      "source": [
        "Now let's test the functions you've implemented"
      ]
    },
    {
      "cell_type": "code",
      "execution_count": null,
      "metadata": {
        "id": "4OhzQf8NXg9b"
      },
      "outputs": [],
      "source": [
        "min_temperature = 0\n",
        "mean_temperature = 0\n",
        "max_temperature = 0\n",
        "sd_temperature = 0\n",
        "skew_temperature = 0\n",
        "kurtosis_temperature = 0\n",
        "correlation_temperature = 0\n"
      ]
    },
    {
      "cell_type": "code",
      "execution_count": null,
      "metadata": {
        "id": "RIcVNiTNXg9c"
      },
      "outputs": [],
      "source": [
        "min_temperature = minTemperature()\n",
        "print(min_temperature)"
      ]
    },
    {
      "cell_type": "code",
      "execution_count": null,
      "metadata": {
        "id": "tAsK5NrfXg9c"
      },
      "outputs": [],
      "source": [
        "mean_temperature = meanTemperature()\n",
        "print(mean_temperature)"
      ]
    },
    {
      "cell_type": "code",
      "execution_count": null,
      "metadata": {
        "id": "hsj0RjMpXg9c"
      },
      "outputs": [],
      "source": [
        "max_temperature = maxTemperature()\n",
        "print(max_temperature)"
      ]
    },
    {
      "cell_type": "code",
      "execution_count": null,
      "metadata": {
        "id": "42AbmBanXg9c"
      },
      "outputs": [],
      "source": [
        "sd_temperature = sdTemperature()\n",
        "print(sd_temperature)"
      ]
    },
    {
      "cell_type": "code",
      "execution_count": null,
      "metadata": {
        "id": "mw7_sA5BXg9c"
      },
      "outputs": [],
      "source": [
        "skew_temperature = skewTemperature()\n",
        "print(skew_temperature)"
      ]
    },
    {
      "cell_type": "code",
      "execution_count": null,
      "metadata": {
        "id": "3_nAlLxeXg9d"
      },
      "outputs": [],
      "source": [
        "kurtosis_temperature = kurtosisTemperature()\n",
        "print(kurtosis_temperature)"
      ]
    },
    {
      "cell_type": "code",
      "execution_count": null,
      "metadata": {
        "id": "PpfTABMJXg9d"
      },
      "outputs": [],
      "source": [
        "correlation_temperature = correlationTemperatureHardness()\n",
        "print(correlation_temperature)"
      ]
    },
    {
      "cell_type": "markdown",
      "metadata": {
        "id": "YerOAjpkXg9d"
      },
      "source": [
        "Congratulations, you are done, please submit this notebook to the grader.\n",
        "We have to install a little library in order to submit to coursera first.\n",
        "\n",
        "Then, please provide your email address and obtain a submission token on the grader’s submission page in coursera, then execute the subsequent cells\n",
        "\n",
        "### Note: We've changed the grader in this assignment and will do so for the others soon since it gives less errors\n",
        "This means you can directly submit your solutions from this notebook"
      ]
    },
    {
      "cell_type": "code",
      "execution_count": null,
      "metadata": {
        "id": "lDVdRDavXg9d"
      },
      "outputs": [],
      "source": [
        "!rm -f rklib.py\n",
        "!wget https://raw.githubusercontent.com/IBM/coursera/master/rklib.py"
      ]
    },
    {
      "cell_type": "code",
      "execution_count": null,
      "metadata": {
        "id": "MkfysrqtXg9e"
      },
      "outputs": [],
      "source": [
        "from rklib import submitAll\n",
        "import json\n",
        "\n",
        "key = \"Suy4biHNEeimFQ479R3GjA\"\n",
        "email = ###_YOUR_CODE_GOES_HERE_###\n",
        "token = ###_YOUR_CODE_GOES_HERE_### #you can obtain it from the grader page on Coursera\n",
        "\n",
        "\n"
      ]
    },
    {
      "cell_type": "code",
      "execution_count": null,
      "metadata": {
        "id": "KnERY5EWXg9e"
      },
      "outputs": [],
      "source": [
        "parts_data = {}\n",
        "parts_data[\"FWMEL\"] = json.dumps(min_temperature)\n",
        "parts_data[\"3n3TK\"] = json.dumps(mean_temperature)\n",
        "parts_data[\"KD3By\"] = json.dumps(max_temperature)\n",
        "parts_data[\"06Zie\"] = json.dumps(sd_temperature)\n",
        "parts_data[\"Qc8bI\"] = json.dumps(skew_temperature)\n",
        "parts_data[\"LoqQi\"] = json.dumps(kurtosis_temperature)\n",
        "parts_data[\"ehNGV\"] = json.dumps(correlation_temperature)\n",
        "\n",
        "\n",
        "\n",
        "submitAll(email, token, key, parts_data)"
      ]
    }
  ],
  "metadata": {
    "kernelspec": {
      "display_name": "Python 3.6",
      "language": "python",
      "name": "python3"
    },
    "language_info": {
      "codemirror_mode": {
        "name": "ipython",
        "version": 3
      },
      "file_extension": ".py",
      "mimetype": "text/x-python",
      "name": "python",
      "nbconvert_exporter": "python",
      "pygments_lexer": "ipython3",
      "version": "3.6.9"
    },
    "colab": {
      "provenance": []
    }
  },
  "nbformat": 4,
  "nbformat_minor": 0
}