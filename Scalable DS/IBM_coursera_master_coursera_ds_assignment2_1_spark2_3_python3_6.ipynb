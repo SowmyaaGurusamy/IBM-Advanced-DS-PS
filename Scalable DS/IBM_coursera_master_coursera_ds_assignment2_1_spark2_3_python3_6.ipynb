{
  "cells": [
    {
      "cell_type": "markdown",
      "metadata": {
        "id": "joJRsQtyXgT0"
      },
      "source": [
        "### Assignment 2\n",
        "Welcome to Assignment 2. This will be fun. It is the first time you actually access external data from ApacheSpark.\n",
        "\n",
        "#### You can also submit partial solutions\n",
        "\n",
        "Just make sure you hit the play button on each cell from top to down. There are three functions you have to implement. Please also make sure than on each change on a function you hit the play button again on the corresponding cell to make it available to the rest of this notebook.\n"
      ]
    },
    {
      "cell_type": "code",
      "execution_count": null,
      "metadata": {
        "id": "AXaA-_WgXgT5"
      },
      "outputs": [],
      "source": [
        "!pip install pyspark==3.3.0"
      ]
    },
    {
      "cell_type": "code",
      "execution_count": null,
      "metadata": {
        "id": "KGzvzzy8XgT5"
      },
      "outputs": [],
      "source": [
        "try:\n",
        "    from pyspark import SparkContext, SparkConf\n",
        "    from pyspark.sql import SparkSession\n",
        "except ImportError as e:\n",
        "    printmd('<<<<<!!!!! Please restart your kernel after installing Apache Spark !!!!!>>>>>')"
      ]
    },
    {
      "cell_type": "code",
      "execution_count": null,
      "metadata": {
        "id": "xmi4Aq7eXgT5"
      },
      "outputs": [],
      "source": [
        "sc = SparkContext.getOrCreate(SparkConf().setMaster(\"local[*]\"))\n",
        "\n",
        "spark = SparkSession \\\n",
        "    .builder \\\n",
        "    .getOrCreate()"
      ]
    },
    {
      "cell_type": "markdown",
      "metadata": {
        "id": "2lDPuigyXgT5"
      },
      "source": [
        "This is the first function you have to implement. You are passed a dataframe object. We've also registered the dataframe in the ApacheSparkSQL catalog - so you can also issue queries against the \"washing\" table using \"spark.sql()\". Hint: To get an idea about the contents of the catalog you can use: spark.catalog.listTables().\n",
        "So now it's time to implement your first function. You are free to use the dataframe API, SQL or RDD API. In case you want to use the RDD API just obtain the encapsulated RDD using \"df.rdd\". You can test the function by running one of the three last cells of this notebook, but please make sure you run the cells from top to down since some are dependant of each other..."
      ]
    },
    {
      "cell_type": "code",
      "execution_count": null,
      "metadata": {
        "id": "EQB8X9jrXgT5"
      },
      "outputs": [],
      "source": [
        "#Please implement a function returning the number of rows in the dataframe\n",
        "def count():\n",
        "    #TODO Please enter your code here, you are not required to use the template code below\n",
        "    #some reference: https://spark.apache.org/docs/latest/api/python/getting_started/quickstart_df.html#Working-with-SQL\n",
        "    #some more help: https://www.w3schools.com/sql/sql_count_avg_sum.asp\n",
        "    return spark.sql('select ### as cnt from washing').first().cnt"
      ]
    },
    {
      "cell_type": "markdown",
      "metadata": {
        "id": "NUimg6VcXgT5"
      },
      "source": [
        "Now it's time to implement the second function. Please return an integer containing the number of fields (columns). The most easy way to get this is using the dataframe API. Hint: You might find the dataframe API documentation useful: https://spark.apache.org/docs/latest/api/python/reference/pyspark.sql/dataframe.html"
      ]
    },
    {
      "cell_type": "code",
      "execution_count": null,
      "metadata": {
        "id": "F4MIvz_5XgT5"
      },
      "outputs": [],
      "source": [
        "def getNumberOfFields():\n",
        "    #TODO Please enter your code here, you are not required to use the template code below\n",
        "    #some reference: https://spark.apache.org/docs/latest/api/python/getting_started/quickstart_df.html#Working-with-SQL\n",
        "    return len(df.###)"
      ]
    },
    {
      "cell_type": "markdown",
      "metadata": {
        "id": "39E-RDY-XgT6"
      },
      "source": [
        "Finally, please implement a function which returns a (python) list of string values of the field names in this data frame. Hint: Just copy&past doesn't work because the auto-grader will create a random data frame for testing, so please use the data frame API as well. Again, this is the link to the documentation: https://spark.apache.org/docs/latest/api/python/getting_started/quickstart_df.html#Working-with-SQL"
      ]
    },
    {
      "cell_type": "code",
      "execution_count": null,
      "metadata": {
        "id": "QN2N0vqzXgT6"
      },
      "outputs": [],
      "source": [
        "def getFieldNames():\n",
        "    #TODO Please enter your code here, you are not required to use the template code below\n",
        "    #some reference: https://spark.apache.org/docs/latest/api/python/getting_started/quickstart_df.html#Working-with-SQL\n",
        "    return df.###"
      ]
    },
    {
      "cell_type": "markdown",
      "metadata": {
        "id": "sUJu3YhcXgT6"
      },
      "source": [
        "Now it is time to grab a PARQUET file and create a dataframe out of it. Using SparkSQL you can handle it like a database."
      ]
    },
    {
      "cell_type": "code",
      "execution_count": null,
      "metadata": {
        "id": "sfI6K7yCXgT6"
      },
      "outputs": [],
      "source": [
        "!wget https://github.com/IBM/coursera/blob/master/coursera_ds/washing.parquet?raw=true\n",
        "!mv washing.parquet?raw=true washing.parquet"
      ]
    },
    {
      "cell_type": "code",
      "execution_count": null,
      "metadata": {
        "id": "1NiXcmL0XgT6"
      },
      "outputs": [],
      "source": [
        "df = spark.read.parquet('washing.parquet')\n",
        "df.createOrReplaceTempView('washing')\n",
        "df.show()"
      ]
    },
    {
      "cell_type": "markdown",
      "metadata": {
        "id": "efKwjkd8XgT6"
      },
      "source": [
        "The following cell can be used to test your count function"
      ]
    },
    {
      "cell_type": "code",
      "execution_count": null,
      "metadata": {
        "id": "_k7cZbz1XgT6"
      },
      "outputs": [],
      "source": [
        "cnt = None\n",
        "nof = None\n",
        "fn = None\n",
        "\n",
        "cnt = count()\n",
        "print(cnt)"
      ]
    },
    {
      "cell_type": "markdown",
      "metadata": {
        "id": "wVIyVnqeXgT6"
      },
      "source": [
        "The following cell can be used to test your getNumberOfFields function"
      ]
    },
    {
      "cell_type": "code",
      "execution_count": null,
      "metadata": {
        "id": "DLa8PuOdXgT6"
      },
      "outputs": [],
      "source": [
        "nof = getNumberOfFields()\n",
        "print(nof)"
      ]
    },
    {
      "cell_type": "markdown",
      "metadata": {
        "id": "-GGxYzldXgT7"
      },
      "source": [
        "The following cell can be used to test your getFieldNames function"
      ]
    },
    {
      "cell_type": "code",
      "execution_count": null,
      "metadata": {
        "id": "KD69PffFXgT7"
      },
      "outputs": [],
      "source": [
        "fn = getFieldNames()\n",
        "print(fn)"
      ]
    },
    {
      "cell_type": "markdown",
      "metadata": {
        "id": "Fb2nfN3VXgT7"
      },
      "source": [
        "Congratulations, you are done. So please submit your solutions to the grader now.\n",
        "\n",
        "# Start of Assignment-Submission\n",
        "\n",
        "The first thing we need to do is to install a little helper library for submitting the solutions to the coursera grader:\n"
      ]
    },
    {
      "cell_type": "code",
      "execution_count": null,
      "metadata": {
        "id": "ch4ZqowvXgT7"
      },
      "outputs": [],
      "source": [
        "!rm -f rklib.py\n",
        "!wget https://raw.githubusercontent.com/IBM/coursera/master/rklib.py"
      ]
    },
    {
      "cell_type": "markdown",
      "metadata": {
        "id": "9-ZKwOqWXgT7"
      },
      "source": [
        "Now it’s time to submit first solution. Please make sure that the token variable contains a valid submission token. You can obtain it from the coursera web page of the course using the grader section of this assignment.\n",
        "\n",
        "Please specify you email address you are using with cousera as well.\n"
      ]
    },
    {
      "cell_type": "code",
      "execution_count": null,
      "metadata": {
        "id": "yCeZrWz6XgT7"
      },
      "outputs": [],
      "source": [
        "from rklib import submit, submitAll\n",
        "import json\n",
        "\n",
        "key = \"SVDiVSHNEeiDqw70MIp2vA\"\n",
        "\n",
        "if type(23) != type(cnt):\n",
        "    raise ValueError('Please make sure that \"cnt\" is a number')\n",
        "\n",
        "if type(23) != type(nof):\n",
        "    raise ValueError('Please make sure that \"nof\" is a number')\n",
        "\n",
        "if type([]) != type(fn):\n",
        "    raise ValueError('Please make sure that \"fn\" is a list')\n",
        "\n",
        "email = #### your code here ###\n",
        "token = #### your code here ### (have a look here if you need more information on how to obtain the token https://youtu.be/GcDo0Rwe06U?t=276)\n",
        "\n",
        "parts_data = {}\n",
        "parts_data[\"2FjQw\"] = json.dumps(cnt)\n",
        "parts_data[\"j8gMs\"] = json.dumps(nof)\n",
        "parts_data[\"xaauC\"] = json.dumps(fn)\n",
        "\n",
        "\n",
        "submitAll(email, token, key, parts_data)"
      ]
    }
  ],
  "metadata": {
    "kernelspec": {
      "display_name": "Python 3.6",
      "language": "python",
      "name": "python3"
    },
    "language_info": {
      "codemirror_mode": {
        "name": "ipython",
        "version": 3
      },
      "file_extension": ".py",
      "mimetype": "text/x-python",
      "name": "python",
      "nbconvert_exporter": "python",
      "pygments_lexer": "ipython3",
      "version": "3.6.9"
    },
    "colab": {
      "provenance": []
    }
  },
  "nbformat": 4,
  "nbformat_minor": 0
}