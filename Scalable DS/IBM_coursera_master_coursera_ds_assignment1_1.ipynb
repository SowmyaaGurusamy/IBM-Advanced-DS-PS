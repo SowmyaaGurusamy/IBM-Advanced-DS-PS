{
  "cells": [
    {
      "cell_type": "markdown",
      "metadata": {
        "id": "ML6ApBMsXe69"
      },
      "source": [
        "# Warmup Assignment\n",
        "\n",
        "In this exercise you will just submit a ping to the grader in order to make sure the exercise and grading environment is setup correctly."
      ]
    },
    {
      "cell_type": "markdown",
      "metadata": {
        "id": "V8EGg6_QXe7A"
      },
      "source": [
        "\n",
        "\n",
        "We have to install a little library in order to submit to coursera\n"
      ]
    },
    {
      "cell_type": "code",
      "execution_count": null,
      "metadata": {
        "id": "4jSAuYxFXe7B"
      },
      "outputs": [],
      "source": [
        "!rm -f rklib.py\n",
        "!wget https://raw.githubusercontent.com/IBM/coursera/master/rklib.py"
      ]
    },
    {
      "cell_type": "markdown",
      "metadata": {
        "id": "0El2UHAqXe7C"
      },
      "source": [
        "Please provide your email address and obtain a submission token on the grader’s submission page in coursera, then execute the cell"
      ]
    },
    {
      "cell_type": "code",
      "execution_count": null,
      "metadata": {
        "id": "6GH2lrpyXe7D"
      },
      "outputs": [],
      "source": [
        "from rklib import submit\n",
        "import json\n",
        "\n",
        "key = \"RrIb4SHNEeiLcw7AkKxwaA\"\n",
        "part = \"zetaj\"\n",
        "email = ###_YOUR_CODE_GOES_HERE_###\n",
        "token = ###_YOUR_CODE_GOES_HERE_### #you can obtain it from the grader page on Coursera (have a look here if you need more information https://youtu.be/GcDo0Rwe06U?t=276)\n",
        "\n",
        "\n",
        "submit(email, token, key, part, [part], json.dumps(23))"
      ]
    }
  ],
  "metadata": {
    "kernelspec": {
      "display_name": "Python 3.6",
      "language": "python",
      "name": "python3"
    },
    "language_info": {
      "codemirror_mode": {
        "name": "ipython",
        "version": 3
      },
      "file_extension": ".py",
      "mimetype": "text/x-python",
      "name": "python",
      "nbconvert_exporter": "python",
      "pygments_lexer": "ipython3",
      "version": "3.6.8"
    },
    "colab": {
      "provenance": []
    }
  },
  "nbformat": 4,
  "nbformat_minor": 0
}