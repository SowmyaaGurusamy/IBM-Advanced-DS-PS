{
  "cells": [
    {
      "cell_type": "markdown",
      "metadata": {
        "id": "3npO4Ntsx8gw"
      },
      "source": [
        "This is the second assignment for the Coursera course \"Advanced Machine Learning and Signal Processing\"\n",
        "\n",
        "\n",
        "Just execute all cells one after the other and you are done - just note that in the last one you have to update your email address (the one you've used for coursera) and obtain a submission token, you get this from the programming assignment directly on coursera.\n",
        "\n",
        "Please fill in the sections labelled with \"###YOUR_CODE_GOES_HERE###\""
      ]
    },
    {
      "cell_type": "code",
      "execution_count": null,
      "metadata": {
        "id": "jtlrnIwIx8gz"
      },
      "outputs": [],
      "source": [
        "!pip install pyspark==2.4.5"
      ]
    },
    {
      "cell_type": "code",
      "execution_count": null,
      "metadata": {
        "id": "OBIiPpfVx8gz"
      },
      "outputs": [],
      "source": [
        "try:\n",
        "    from pyspark import SparkContext, SparkConf\n",
        "    from pyspark.sql import SparkSession\n",
        "except ImportError as e:\n",
        "    printmd('<<<<<!!!!! Please restart your kernel after installing Apache Spark !!!!!>>>>>')"
      ]
    },
    {
      "cell_type": "code",
      "execution_count": null,
      "metadata": {
        "id": "C-qv2Ntsx8gz"
      },
      "outputs": [],
      "source": [
        "sc = SparkContext.getOrCreate(SparkConf().setMaster(\"local[*]\"))\n",
        "\n",
        "spark = SparkSession \\\n",
        "    .builder \\\n",
        "    .getOrCreate()"
      ]
    },
    {
      "cell_type": "code",
      "execution_count": null,
      "metadata": {
        "id": "8FZqVE_0x8gz"
      },
      "outputs": [],
      "source": [
        "!wget https://github.com/IBM/coursera/raw/master/coursera_ml/a2.parquet"
      ]
    },
    {
      "cell_type": "markdown",
      "metadata": {
        "id": "fdHZ6Twzx8g0"
      },
      "source": [
        "Now it’s time to have a look at the recorded sensor data. You should see data similar to the one exemplified below….\n"
      ]
    },
    {
      "cell_type": "code",
      "execution_count": null,
      "metadata": {
        "id": "-za58iZKx8g0"
      },
      "outputs": [],
      "source": [
        "df=spark.read.load('a2.parquet')\n",
        "\n",
        "df.createOrReplaceTempView(\"df\")\n",
        "spark.sql(\"SELECT * from df\").show()\n"
      ]
    },
    {
      "cell_type": "markdown",
      "metadata": {
        "id": "kBJTCxlKx8g0"
      },
      "source": [
        "Please create a VectorAssembler which consumes columns X, Y and Z and produces a column “features”\n"
      ]
    },
    {
      "cell_type": "code",
      "execution_count": null,
      "metadata": {
        "id": "aLR6pYgGx8g0"
      },
      "outputs": [],
      "source": [
        "from pyspark.ml.feature import VectorAssembler\n",
        "vectorAssembler = ###YOUR_CODE_GOES_HERE###\""
      ]
    },
    {
      "cell_type": "markdown",
      "metadata": {
        "id": "zT9S3rZcx8g0"
      },
      "source": [
        "Please instantiate a classifier from the SparkML package and assign it to the classifier variable. Make sure to either\n",
        "1.\tRename the “CLASS” column to “label” or\n",
        "2.\tSpecify the label-column correctly to be “CLASS”\n"
      ]
    },
    {
      "cell_type": "code",
      "execution_count": null,
      "metadata": {
        "id": "EeTK4vbbx8g1"
      },
      "outputs": [],
      "source": [
        "from pyspark.ml.classification import ###YOUR_CODE_GOES_HERE###\"\n",
        "\n",
        "classifier = ###YOUR_CODE_GOES_HERE###\"\n",
        "\n"
      ]
    },
    {
      "cell_type": "markdown",
      "metadata": {
        "id": "PwQWKxQhx8g1"
      },
      "source": [
        "Let’s train and evaluate…\n"
      ]
    },
    {
      "cell_type": "code",
      "execution_count": null,
      "metadata": {
        "id": "5u6dicIVx8g1"
      },
      "outputs": [],
      "source": [
        "from pyspark.ml import Pipeline\n",
        "pipeline = Pipeline(stages=[vectorAssembler, classifier])"
      ]
    },
    {
      "cell_type": "code",
      "execution_count": null,
      "metadata": {
        "id": "6K1S56Nnx8g1"
      },
      "outputs": [],
      "source": [
        "model = pipeline.fit(df)"
      ]
    },
    {
      "cell_type": "code",
      "execution_count": null,
      "metadata": {
        "id": "stLL_z6jx8g1"
      },
      "outputs": [],
      "source": [
        "prediction = model.transform(df)"
      ]
    },
    {
      "cell_type": "code",
      "execution_count": null,
      "metadata": {
        "id": "rOQMhqrVx8g1"
      },
      "outputs": [],
      "source": [
        "prediction.show()"
      ]
    },
    {
      "cell_type": "code",
      "execution_count": null,
      "metadata": {
        "id": "7-wouGUix8g1"
      },
      "outputs": [],
      "source": [
        "from pyspark.ml.evaluation import MulticlassClassificationEvaluator\n",
        "binEval = MulticlassClassificationEvaluator().setMetricName(\"accuracy\") .setPredictionCol(\"prediction\").setLabelCol(\"CLASS\")\n",
        "\n",
        "binEval.evaluate(prediction)"
      ]
    },
    {
      "cell_type": "markdown",
      "metadata": {
        "id": "Ut3Q2Y3Ix8g1"
      },
      "source": [
        "If you are happy with the result (I’m happy with > 0.55) please submit your solution to the grader by executing the following cells, please don’t forget to obtain an assignment submission token (secret) from the Coursera’s graders web page and paste it to the “secret” variable below, including your email address you’ve used for Coursera. (0.55 means that you are performing better than random guesses)\n"
      ]
    },
    {
      "cell_type": "code",
      "execution_count": null,
      "metadata": {
        "id": "7jy9Lvqox8g1"
      },
      "outputs": [],
      "source": [
        "!rm -Rf a2_m2.json"
      ]
    },
    {
      "cell_type": "code",
      "execution_count": null,
      "metadata": {
        "id": "ozOL6czCx8g1"
      },
      "outputs": [],
      "source": [
        "prediction = prediction.repartition(1)\n",
        "prediction.write.json('a2_m2.json')"
      ]
    },
    {
      "cell_type": "code",
      "execution_count": null,
      "metadata": {
        "id": "_xuxeW95x8g2"
      },
      "outputs": [],
      "source": [
        "!rm -f rklib.py\n",
        "!wget https://raw.githubusercontent.com/IBM/coursera/master/rklib.py"
      ]
    },
    {
      "cell_type": "code",
      "execution_count": null,
      "metadata": {
        "id": "DbiBXIhHx8g2"
      },
      "outputs": [],
      "source": [
        "import zipfile\n",
        "import os\n",
        "\n",
        "def zipdir(path, ziph):\n",
        "    for root, dirs, files in os.walk(path):\n",
        "        for file in files:\n",
        "            ziph.write(os.path.join(root, file))\n",
        "\n",
        "zipf = zipfile.ZipFile('a2_m2.json.zip', 'w', zipfile.ZIP_DEFLATED)\n",
        "zipdir('a2_m2.json', zipf)\n",
        "zipf.close()"
      ]
    },
    {
      "cell_type": "code",
      "execution_count": null,
      "metadata": {
        "id": "VUdP0H3Ex8g2"
      },
      "outputs": [],
      "source": [
        "!base64 a2_m2.json.zip > a2_m2.json.zip.base64"
      ]
    },
    {
      "cell_type": "code",
      "execution_count": null,
      "metadata": {
        "id": "RTQbvwPSx8g2"
      },
      "outputs": [],
      "source": [
        "from rklib import submit\n",
        "key = \"J3sDL2J8EeiaXhILFWw2-g\"\n",
        "part = \"G4P6f\"\n",
        "email = None###YOUR_CODE_GOES_HERE###\"\n",
        "token = None###YOUR_CODE_GOES_HERE###\" # (have a look here if you need more information on how to obtain the token https://youtu.be/GcDo0Rwe06U?t=276)\n",
        "\n",
        "with open('a2_m2.json.zip.base64', 'r') as myfile:\n",
        "    data=myfile.read()\n",
        "submit(email, token, key, part, [part], data)"
      ]
    }
  ],
  "metadata": {
    "kernelspec": {
      "display_name": "Python 3.6",
      "language": "python",
      "name": "python3"
    },
    "language_info": {
      "codemirror_mode": {
        "name": "ipython",
        "version": 3
      },
      "file_extension": ".py",
      "mimetype": "text/x-python",
      "name": "python",
      "nbconvert_exporter": "python",
      "pygments_lexer": "ipython3",
      "version": "3.6.9"
    },
    "colab": {
      "provenance": []
    }
  },
  "nbformat": 4,
  "nbformat_minor": 0
}