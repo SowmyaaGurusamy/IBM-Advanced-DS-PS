{
  "cells": [
    {
      "cell_type": "markdown",
      "metadata": {
        "id": "BpSZdAeox9V9"
      },
      "source": [
        "\n",
        "\n",
        "\n",
        "\n",
        "\n",
        "\n",
        "\n",
        "\n",
        "This is the third assignment for the Coursera course \"Advanced Machine Learning and Signal Processing\"\n",
        "\n",
        "Just execute all cells one after the other and you are done - just note that in the last one you must update your email address (the one you've used for coursera) and obtain a submission token, you get this from the programming assignment directly on coursera.\n",
        "\n",
        "Please fill in the sections labelled with \"###YOUR_CODE_GOES_HERE###\"\n"
      ]
    },
    {
      "cell_type": "code",
      "execution_count": null,
      "metadata": {
        "id": "FsrM9NyKx9WB"
      },
      "outputs": [],
      "source": [
        "!pip install pyspark==2.4.5"
      ]
    },
    {
      "cell_type": "code",
      "execution_count": null,
      "metadata": {
        "id": "prgFRCnsx9WC"
      },
      "outputs": [],
      "source": [
        "try:\n",
        "    from pyspark import SparkContext, SparkConf\n",
        "    from pyspark.sql import SparkSession\n",
        "except ImportError as e:\n",
        "    printmd('<<<<<!!!!! Please restart your kernel after installing Apache Spark !!!!!>>>>>')"
      ]
    },
    {
      "cell_type": "code",
      "execution_count": null,
      "metadata": {
        "id": "erHmBCnUx9WC"
      },
      "outputs": [],
      "source": [
        "sc = SparkContext.getOrCreate(SparkConf().setMaster(\"local[*]\"))\n",
        "\n",
        "spark = SparkSession \\\n",
        "    .builder \\\n",
        "    .getOrCreate()"
      ]
    },
    {
      "cell_type": "code",
      "execution_count": null,
      "metadata": {
        "id": "WreFuKSzx9WC"
      },
      "outputs": [],
      "source": [
        "!wget https://github.com/IBM/coursera/raw/master/coursera_ml/a2.parquet"
      ]
    },
    {
      "cell_type": "markdown",
      "metadata": {
        "id": "npwi71Tmx9WC"
      },
      "source": [
        "Now it’s time to have a look at the recorded sensor data. You should see data similar to the one exemplified below….\n"
      ]
    },
    {
      "cell_type": "code",
      "execution_count": null,
      "metadata": {
        "id": "lT6fQNUyx9WC"
      },
      "outputs": [],
      "source": [
        "df=spark.read.load('a2.parquet')\n",
        "\n",
        "df.createOrReplaceTempView(\"df\")\n",
        "spark.sql(\"SELECT * from df\").show()\n"
      ]
    },
    {
      "cell_type": "markdown",
      "metadata": {
        "id": "Ir9Q39XNx9WD"
      },
      "source": [
        "Let’s check if we have balanced classes – this means that we have roughly the same number of examples for each class we want to predict. This is important for classification but also helpful for clustering"
      ]
    },
    {
      "cell_type": "code",
      "execution_count": null,
      "metadata": {
        "id": "rGUQ3vRvx9WD"
      },
      "outputs": [],
      "source": [
        "spark.sql(\"SELECT count(class), class from df group by class\").show()"
      ]
    },
    {
      "cell_type": "markdown",
      "metadata": {
        "id": "MHnvgJmVx9WD"
      },
      "source": [
        "Let's create a VectorAssembler which consumes columns X, Y and Z and produces a column “features”\n"
      ]
    },
    {
      "cell_type": "code",
      "execution_count": null,
      "metadata": {
        "id": "AoTo0KH0x9WD"
      },
      "outputs": [],
      "source": [
        "from pyspark.ml.feature import VectorAssembler\n",
        "vectorAssembler = VectorAssembler(inputCols=[\"X\",\"Y\",\"Z\"],\n",
        "                                  outputCol=\"features\")"
      ]
    },
    {
      "cell_type": "markdown",
      "metadata": {
        "id": "v0xAKqo6x9WD"
      },
      "source": [
        "Please insatiate a clustering algorithm from the SparkML package and assign it to the clust variable. Here we don’t need to take care of the “CLASS” column since we are in unsupervised learning mode – so let’s pretend to not even have the “CLASS” column for now – but it will become very handy later in assessing the clustering performance. PLEASE NOTE – IN REAL-WORLD SCENARIOS THERE IS NO CLASS COLUMN – THEREFORE YOU CAN’T ASSESS CLASSIFICATION PERFORMANCE USING THIS COLUMN\n",
        "\n"
      ]
    },
    {
      "cell_type": "code",
      "execution_count": null,
      "metadata": {
        "id": "wOGZF8DBx9WD"
      },
      "outputs": [],
      "source": [
        "from pyspark.ml.clustering ###YOUR_CODE_GOES_HERE###\n",
        "\n",
        "clust = ###YOUR_CODE_GOES_HERE###"
      ]
    },
    {
      "cell_type": "markdown",
      "metadata": {
        "id": "vivwxLHLx9WD"
      },
      "source": [
        "Let’s train...\n"
      ]
    },
    {
      "cell_type": "code",
      "execution_count": null,
      "metadata": {
        "id": "yKlaNx_wx9WE"
      },
      "outputs": [],
      "source": [
        "from pyspark.ml import Pipeline\n",
        "pipeline = Pipeline(stages=[vectorAssembler, clust])\n",
        "model = pipeline.fit(df)"
      ]
    },
    {
      "cell_type": "markdown",
      "metadata": {
        "id": "nbt3MgBCx9WE"
      },
      "source": [
        "...and evaluate..."
      ]
    },
    {
      "cell_type": "code",
      "execution_count": null,
      "metadata": {
        "id": "SM9xhKhox9WE"
      },
      "outputs": [],
      "source": [
        "prediction = model.transform(df)\n",
        "prediction.show()"
      ]
    },
    {
      "cell_type": "code",
      "execution_count": null,
      "metadata": {
        "id": "J0mTTNZpx9WE"
      },
      "outputs": [],
      "source": [
        "prediction.createOrReplaceTempView('prediction')\n",
        "spark.sql('''\n",
        "select max(correct)/max(total) as accuracy from (\n",
        "\n",
        "    select sum(correct) as correct, count(correct) as total from (\n",
        "        select case when class != prediction then 1 else 0 end as correct from prediction\n",
        "    )\n",
        "\n",
        "    union\n",
        "\n",
        "    select sum(correct) as correct, count(correct) as total from (\n",
        "        select case when class = prediction then 1 else 0 end as correct from prediction\n",
        "    )\n",
        ")\n",
        "''').rdd.map(lambda row: row.accuracy).collect()[0]"
      ]
    },
    {
      "cell_type": "markdown",
      "metadata": {
        "id": "PY1isTagx9WE"
      },
      "source": [
        "If you reached at least 55% of accuracy you are fine to submit your predictions to the grader. Otherwise please experiment with parameters setting to your clustering algorithm, use a different algorithm or just re-record your data and try to obtain. In case you are stuck, please use the Coursera Discussion Forum. Please note again – in a real-world scenario there is no way in doing this – since there is no class label in your data. Please have a look at this further reading on clustering performance evaluation https://en.wikipedia.org/wiki/Cluster_analysis#Evaluation_and_assessment\n"
      ]
    },
    {
      "cell_type": "code",
      "execution_count": null,
      "metadata": {
        "id": "Be2ikfFJx9WE"
      },
      "outputs": [],
      "source": [
        "!rm -f rklib.py\n",
        "!wget https://raw.githubusercontent.com/IBM/coursera/master/rklib.py"
      ]
    },
    {
      "cell_type": "code",
      "execution_count": null,
      "metadata": {
        "id": "FThWxirjx9WE"
      },
      "outputs": [],
      "source": [
        "!rm -Rf a2_m3.json"
      ]
    },
    {
      "cell_type": "code",
      "execution_count": null,
      "metadata": {
        "id": "l0sbAKosx9WE"
      },
      "outputs": [],
      "source": [
        "prediction= prediction.repartition(1)\n",
        "prediction.write.json('a2_m3.json')"
      ]
    },
    {
      "cell_type": "code",
      "execution_count": null,
      "metadata": {
        "id": "7alI-k0ix9WE"
      },
      "outputs": [],
      "source": [
        "import zipfile\n",
        "import os\n",
        "\n",
        "def zipdir(path, ziph):\n",
        "    for root, dirs, files in os.walk(path):\n",
        "        for file in files:\n",
        "            ziph.write(os.path.join(root, file))\n",
        "\n",
        "zipf = zipfile.ZipFile('a2_m3.json.zip', 'w', zipfile.ZIP_DEFLATED)\n",
        "zipdir('a2_m3.json', zipf)\n",
        "zipf.close()"
      ]
    },
    {
      "cell_type": "code",
      "execution_count": null,
      "metadata": {
        "id": "AuL1KcjBx9WE"
      },
      "outputs": [],
      "source": [
        "!base64 a2_m3.json.zip > a2_m3.json.zip.base64"
      ]
    },
    {
      "cell_type": "code",
      "execution_count": null,
      "metadata": {
        "id": "LL9EJvXEx9WF"
      },
      "outputs": [],
      "source": [
        "from rklib import submit\n",
        "key = \"pPfm62VXEeiJOBL0dhxPkA\"\n",
        "part = \"EOTMs\"\n",
        "email = None###YOUR_CODE_GOES_HERE###\n",
        "token = None###YOUR_CODE_GOES_HERE### # (have a look here if you need more information on how to obtain the token https://youtu.be/GcDo0Rwe06U?t=276)\n",
        "\n",
        "\n",
        "with open('a2_m3.json.zip.base64', 'r') as myfile:\n",
        "    data=myfile.read()\n",
        "submit(email, token, key, part, [part], data)"
      ]
    }
  ],
  "metadata": {
    "kernelspec": {
      "display_name": "Python 3.6",
      "language": "python",
      "name": "python3"
    },
    "language_info": {
      "codemirror_mode": {
        "name": "ipython",
        "version": 3
      },
      "file_extension": ".py",
      "mimetype": "text/x-python",
      "name": "python",
      "nbconvert_exporter": "python",
      "pygments_lexer": "ipython3",
      "version": "3.6.9"
    },
    "colab": {
      "provenance": []
    }
  },
  "nbformat": 4,
  "nbformat_minor": 0
}